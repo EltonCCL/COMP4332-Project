{
 "cells": [
  {
   "cell_type": "code",
   "execution_count": 23,
   "metadata": {},
   "outputs": [],
   "source": [
    "import pandas as pd\n",
    "import evaluate\n",
    "import numpy as np\n",
    "import torch\n",
    "import matplotlib.pyplot as plt\n",
    "\n",
    "from sklearn.metrics import precision_recall_fscore_support, accuracy_score, log_loss\n",
    "from transformers import AutoTokenizer, DataCollatorWithPadding, DataCollatorWithPadding,  AutoModelForSequenceClassification, TrainingArguments, Trainer, TrainerCallback\n",
    "from datasets import load_dataset, Dataset, DatasetDict\n",
    "from copy import deepcopy"
   ]
  },
  {
   "cell_type": "markdown",
   "metadata": {},
   "source": [
    "# Reading\n",
    "\n",
    "## What is transformer\n",
    "https://zhuanlan.zhihu.com/p/413267911\n",
    "\n",
    "## Work approach\n",
    "https://huggingface.co/docs/transformers/en/tasks/sequence_classification\n",
    "\n",
    "## Concepts\n",
    "- What is **Auto tokenizer**  \n",
    "https://www.cnblogs.com/chenhuabin/p/16997607.html\n",
    "\n",
    "\n",
    "- What is **attention mask**  \n",
    "https://huggingface.co/docs/transformers/glossary#attention-mask\n",
    "\n",
    "\n",
    "- Why we need **pad** or **truncation**  \n",
    "https://huggingface.co/docs/transformers/en/pad_truncation\n",
    "\n",
    "- Why **Dataset.map** and **DataCollatorWithPadding**  \n",
    "  https://zhuanlan.zhihu.com/p/414552021"
   ]
  },
  {
   "cell_type": "code",
   "execution_count": 24,
   "metadata": {},
   "outputs": [],
   "source": [
    "TRAIN_CSV = \"data/train.csv\"\n",
    "VALID_CSV = \"data/valid.csv\"\n",
    "\n",
    "PRE_TRAINED_MODEL = \"distilbert-base-uncased\"\n",
    "\n",
    "SEED = 4332\n",
    "\n",
    "id2label = {1: \"WORST\", 2: \"BAD\", 3:\"NEUTRAL\", 4: \"GOOD\", 5:\"EXCELLENT\"}\n",
    "label2id = {\"WORST\": 1, \"BAD\": 2, \"NEUTRAL\": 3, \"GOOD\": 4, \"EXCELLENT\": 5}\n",
    "\n",
    "\n",
    "tokenizer = AutoTokenizer.from_pretrained(PRE_TRAINED_MODEL)\n",
    "# tokenizer = AutoTokenizer.from_pretrained(\"roberta-base\")\n",
    "\n",
    "accuracy = evaluate.load(\"accuracy\")"
   ]
  },
  {
   "cell_type": "code",
   "execution_count": 29,
   "metadata": {},
   "outputs": [],
   "source": [
    "def load_data(file_path):\n",
    "    return pd.read_csv(file_path)[['text','label']].to_dict('records')\n",
    "\n",
    "def preprocess_function(examples):\n",
    "    return tokenizer(examples[\"text\"], truncation=True)\n",
    "\n",
    "# Evaluation metric\n",
    "def compute_metrics(eval_pred):\n",
    "    predictions, labels = eval_pred\n",
    "    predictions = np.argmax(predictions, axis=1)\n",
    "    return accuracy.compute(predictions=predictions, references=labels)"
   ]
  },
  {
   "cell_type": "code",
   "execution_count": 30,
   "metadata": {},
   "outputs": [
    {
     "data": {
      "application/vnd.jupyter.widget-view+json": {
       "model_id": "ee269d0eb4cc43d7afcf41f131b116e9",
       "version_major": 2,
       "version_minor": 0
      },
      "text/plain": [
       "Map:   0%|          | 0/18000 [00:00<?, ? examples/s]"
      ]
     },
     "metadata": {},
     "output_type": "display_data"
    },
    {
     "data": {
      "application/vnd.jupyter.widget-view+json": {
       "model_id": "283aac5419924f9faf60e32902d8ffcf",
       "version_major": 2,
       "version_minor": 0
      },
      "text/plain": [
       "Map:   0%|          | 0/2000 [00:00<?, ? examples/s]"
      ]
     },
     "metadata": {},
     "output_type": "display_data"
    }
   ],
   "source": [
    "train_data = load_data(TRAIN_CSV)\n",
    "valid_data = load_data(VALID_CSV)\n",
    "\n",
    "# Create a Dataset Dictionary object for hugging face's pipeline\n",
    "data = DatasetDict({\"train\": Dataset.from_list(train_data), \"validation\": Dataset.from_list(valid_data)})\n",
    "tokenized_data = data.map(preprocess_function, batched=True)\n",
    "data_collator = DataCollatorWithPadding(tokenizer=tokenizer)"
   ]
  },
  {
   "cell_type": "code",
   "execution_count": 31,
   "metadata": {},
   "outputs": [
    {
     "name": "stderr",
     "output_type": "stream",
     "text": [
      "Some weights of DistilBertForSequenceClassification were not initialized from the model checkpoint at distilbert-base-uncased and are newly initialized: ['classifier.bias', 'classifier.weight', 'pre_classifier.bias', 'pre_classifier.weight']\n",
      "You should probably TRAIN this model on a down-stream task to be able to use it for predictions and inference.\n"
     ]
    }
   ],
   "source": [
    "model = AutoModelForSequenceClassification.from_pretrained(\n",
    "    PRE_TRAINED_MODEL, num_labels=5, id2label=id2label, label2id=label2id\n",
    ")"
   ]
  },
  {
   "cell_type": "code",
   "execution_count": 32,
   "metadata": {},
   "outputs": [
    {
     "name": "stderr",
     "output_type": "stream",
     "text": [
      "/Users/eltonli/miniconda3/envs/4332/lib/python3.10/site-packages/accelerate/accelerator.py:432: FutureWarning: Passing the following arguments to `Accelerator` is deprecated and will be removed in version 1.0 of Accelerate: dict_keys(['dispatch_batches', 'split_batches']). Please pass an `accelerate.DataLoaderConfiguration` instead: \n",
      "dataloader_config = DataLoaderConfiguration(dispatch_batches=None, split_batches=False)\n",
      "  warnings.warn(\n"
     ]
    },
    {
     "data": {
      "application/vnd.jupyter.widget-view+json": {
       "model_id": "bdf7e57a2e5040f38788a0a84990e523",
       "version_major": 2,
       "version_minor": 0
      },
      "text/plain": [
       "  0%|          | 0/2250 [00:00<?, ?it/s]"
      ]
     },
     "metadata": {},
     "output_type": "display_data"
    },
    {
     "name": "stdout",
     "output_type": "stream",
     "text": [
      "{'loss': 0.803, 'learning_rate': 1.555555555555556e-05, 'epoch': 0.44}\n",
      "{'loss': 0.7077, 'learning_rate': 1.1111111111111113e-05, 'epoch': 0.89}\n"
     ]
    },
    {
     "data": {
      "application/vnd.jupyter.widget-view+json": {
       "model_id": "d21f5b4bbc4a49919604ce7eedbd88ec",
       "version_major": 2,
       "version_minor": 0
      },
      "text/plain": [
       "  0%|          | 0/1125 [00:00<?, ?it/s]"
      ]
     },
     "metadata": {},
     "output_type": "display_data"
    },
    {
     "name": "stdout",
     "output_type": "stream",
     "text": [
      "{'train_loss': 0.6070576310157776, 'train_accuracy': 0.49083333333333334, 'train_runtime': 86.7251, 'train_samples_per_second': 207.552, 'train_steps_per_second': 12.972, 'epoch': 1.0}\n"
     ]
    },
    {
     "data": {
      "application/vnd.jupyter.widget-view+json": {
       "model_id": "ad164c3da18745218e7b9f2ec8b6a7c5",
       "version_major": 2,
       "version_minor": 0
      },
      "text/plain": [
       "  0%|          | 0/125 [00:00<?, ?it/s]"
      ]
     },
     "metadata": {},
     "output_type": "display_data"
    },
    {
     "name": "stderr",
     "output_type": "stream",
     "text": [
      "Checkpoint destination directory my_awesome_model/checkpoint-1125 already exists and is non-empty.Saving will proceed but saved results may be invalid.\n"
     ]
    },
    {
     "name": "stdout",
     "output_type": "stream",
     "text": [
      "{'eval_loss': 0.6869535446166992, 'eval_accuracy': 0.463, 'eval_runtime': 4.6298, 'eval_samples_per_second': 431.986, 'eval_steps_per_second': 26.999, 'epoch': 1.0}\n",
      "{'loss': 0.6402, 'learning_rate': 6.666666666666667e-06, 'epoch': 1.33}\n",
      "{'loss': 0.6164, 'learning_rate': 2.222222222222222e-06, 'epoch': 1.78}\n"
     ]
    },
    {
     "data": {
      "application/vnd.jupyter.widget-view+json": {
       "model_id": "c7e869c151a640c985a60f9afee1da45",
       "version_major": 2,
       "version_minor": 0
      },
      "text/plain": [
       "  0%|          | 0/1125 [00:00<?, ?it/s]"
      ]
     },
     "metadata": {},
     "output_type": "display_data"
    },
    {
     "name": "stdout",
     "output_type": "stream",
     "text": [
      "{'train_loss': 0.538798987865448, 'train_accuracy': 0.5272777777777777, 'train_runtime': 43.7907, 'train_samples_per_second': 411.046, 'train_steps_per_second': 25.69, 'epoch': 2.0}\n"
     ]
    },
    {
     "data": {
      "application/vnd.jupyter.widget-view+json": {
       "model_id": "221a7129ba924219b3c780100b407cf5",
       "version_major": 2,
       "version_minor": 0
      },
      "text/plain": [
       "  0%|          | 0/125 [00:00<?, ?it/s]"
      ]
     },
     "metadata": {},
     "output_type": "display_data"
    },
    {
     "name": "stderr",
     "output_type": "stream",
     "text": [
      "Checkpoint destination directory my_awesome_model/checkpoint-2250 already exists and is non-empty.Saving will proceed but saved results may be invalid.\n"
     ]
    },
    {
     "name": "stdout",
     "output_type": "stream",
     "text": [
      "{'eval_loss': 0.6811787486076355, 'eval_accuracy': 0.468, 'eval_runtime': 4.6097, 'eval_samples_per_second': 433.868, 'eval_steps_per_second': 27.117, 'epoch': 2.0}\n",
      "{'train_runtime': 483.2851, 'train_samples_per_second': 74.49, 'train_steps_per_second': 4.656, 'train_loss': 0.6822109646267361, 'epoch': 2.0}\n"
     ]
    },
    {
     "data": {
      "text/plain": [
       "TrainOutput(global_step=2250, training_loss=0.6822109646267361, metrics={'train_runtime': 483.2851, 'train_samples_per_second': 74.49, 'train_steps_per_second': 4.656, 'train_loss': 0.6822109646267361, 'epoch': 2.0})"
      ]
     },
     "execution_count": 32,
     "metadata": {},
     "output_type": "execute_result"
    }
   ],
   "source": [
    "class CustomCallback(TrainerCallback):\n",
    "    \n",
    "    def __init__(self, trainer) -> None:\n",
    "        super().__init__()\n",
    "        self._trainer = trainer\n",
    "    \n",
    "    def on_epoch_end(self, args, state, control, **kwargs):\n",
    "        if control.should_evaluate:\n",
    "            control_copy = deepcopy(control)\n",
    "            self._trainer.evaluate(eval_dataset=self._trainer.train_dataset, metric_key_prefix=\"train\")\n",
    "            return control_copy\n",
    "\n",
    "\n",
    "# More args could be found here:\n",
    "# https://huggingface.co/docs/transformers/main/en/main_classes/trainer#transformers.TrainingArguments\n",
    "training_args = TrainingArguments(\n",
    "    output_dir=\"my_awesome_model\",\n",
    "    learning_rate=2e-5,\n",
    "    per_device_train_batch_size=16,\n",
    "    per_device_eval_batch_size=16,\n",
    "    num_train_epochs=2,\n",
    "    weight_decay=0.01, \n",
    "    evaluation_strategy=\"epoch\",\n",
    "    save_strategy=\"epoch\",\n",
    "    load_best_model_at_end=True,\n",
    "    seed=SEED,\n",
    "    data_seed=SEED\n",
    ")\n",
    "\n",
    "trainer = Trainer(\n",
    "    model=model,\n",
    "    args=training_args,\n",
    "    train_dataset=tokenized_data[\"train\"],\n",
    "    eval_dataset=tokenized_data[\"validation\"],\n",
    "    tokenizer=tokenizer,\n",
    "    data_collator=data_collator,\n",
    "    compute_metrics=compute_metrics,\n",
    ")\n",
    "\n",
    "trainer.add_callback((CustomCallback(trainer)))\n",
    "\n",
    "trainer.train()"
   ]
  },
  {
   "cell_type": "code",
   "execution_count": null,
   "metadata": {},
   "outputs": [],
   "source": [
    "trainer.save_model(\"elton\")"
   ]
  },
  {
   "cell_type": "code",
   "execution_count": null,
   "metadata": {},
   "outputs": [],
   "source": [
    "plt.figure(figsize=(10,4))\n"
   ]
  },
  {
   "cell_type": "code",
   "execution_count": 28,
   "metadata": {},
   "outputs": [
    {
     "data": {
      "text/plain": [
       "[{'loss': 0.4519,\n",
       "  'learning_rate': 1.555555555555556e-05,\n",
       "  'epoch': 0.44,\n",
       "  'step': 500},\n",
       " {'loss': 0.375,\n",
       "  'learning_rate': 1.1111111111111113e-05,\n",
       "  'epoch': 0.89,\n",
       "  'step': 1000},\n",
       " {'train_loss': 0.3231489062309265,\n",
       "  'train_accuracy': 0.6293888888888889,\n",
       "  'train_runtime': 43.2683,\n",
       "  'train_samples_per_second': 416.009,\n",
       "  'train_steps_per_second': 26.001,\n",
       "  'epoch': 1.0,\n",
       "  'step': 1125},\n",
       " {'eval_loss': 0.3231489062309265,\n",
       "  'eval_accuracy': 0.6293888888888889,\n",
       "  'eval_runtime': 43.0981,\n",
       "  'eval_samples_per_second': 417.652,\n",
       "  'eval_steps_per_second': 26.103,\n",
       "  'epoch': 1.0,\n",
       "  'step': 1125},\n",
       " {'loss': 0.2974,\n",
       "  'learning_rate': 6.666666666666667e-06,\n",
       "  'epoch': 1.33,\n",
       "  'step': 1500},\n",
       " {'loss': 0.2524,\n",
       "  'learning_rate': 2.222222222222222e-06,\n",
       "  'epoch': 1.78,\n",
       "  'step': 2000},\n",
       " {'train_loss': 0.25691720843315125,\n",
       "  'train_accuracy': 0.6616666666666666,\n",
       "  'train_runtime': 43.3174,\n",
       "  'train_samples_per_second': 415.537,\n",
       "  'train_steps_per_second': 25.971,\n",
       "  'epoch': 2.0,\n",
       "  'step': 2250},\n",
       " {'eval_loss': 0.25691720843315125,\n",
       "  'eval_accuracy': 0.6616666666666666,\n",
       "  'eval_runtime': 43.0486,\n",
       "  'eval_samples_per_second': 418.132,\n",
       "  'eval_steps_per_second': 26.133,\n",
       "  'epoch': 2.0,\n",
       "  'step': 2250},\n",
       " {'train_runtime': 512.5188,\n",
       "  'train_samples_per_second': 70.241,\n",
       "  'train_steps_per_second': 4.39,\n",
       "  'total_flos': 516352426871040.0,\n",
       "  'train_loss': 0.33225459967719184,\n",
       "  'epoch': 2.0,\n",
       "  'step': 2250}]"
      ]
     },
     "execution_count": 28,
     "metadata": {},
     "output_type": "execute_result"
    }
   ],
   "source": [
    "trainer.state.log_history"
   ]
  },
  {
   "cell_type": "markdown",
   "metadata": {},
   "source": [
    "# Inference"
   ]
  },
  {
   "cell_type": "code",
   "execution_count": null,
   "metadata": {},
   "outputs": [],
   "source": [
    "from transformers import pipeline"
   ]
  },
  {
   "cell_type": "code",
   "execution_count": null,
   "metadata": {},
   "outputs": [],
   "source": [
    "\n",
    "classifier = pipeline(\"sentiment-analysis\", model=\"elton\")\n",
    "classifier(\"How are you\")"
   ]
  },
  {
   "cell_type": "code",
   "execution_count": null,
   "metadata": {},
   "outputs": [],
   "source": []
  }
 ],
 "metadata": {
  "kernelspec": {
   "display_name": "fyp",
   "language": "python",
   "name": "python3"
  },
  "language_info": {
   "codemirror_mode": {
    "name": "ipython",
    "version": 3
   },
   "file_extension": ".py",
   "mimetype": "text/x-python",
   "name": "python",
   "nbconvert_exporter": "python",
   "pygments_lexer": "ipython3",
   "version": "3.10.14"
  }
 },
 "nbformat": 4,
 "nbformat_minor": 2
}
